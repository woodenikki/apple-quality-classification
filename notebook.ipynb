{
 "cells": [
  {
   "cell_type": "markdown",
   "id": "beeb231a",
   "metadata": {},
   "source": [
    "# Business Problem\n",
    "\n",
    "This project empowers apple growers, distributors, and retailers to efficiently assess the quality of apples using machine learning. By predicting apple quality based on measurable attributes, this project streamlines operations, reduces waste, and enhances customer satisfaction throughout the supply chain, ultimately revolutionizing the apple industry."
   ]
  },
  {
   "cell_type": "markdown",
   "id": "01c5e8ed",
   "metadata": {},
   "source": [
    "# Data Understanding:\n",
    "This dataset contains information about various attributes of a set of fruits, providing insights into their characteristics. The dataset includes details such as fruit ID, size, weight, sweetness, crunchiness, juiciness, ripeness, acidity, and quality.\n",
    "\n",
    "The dataset was generously provided by an American agriculture company. The data has been scaled and cleaned for ease of use.\n",
    "\n",
    "[Apple Quality: Kaggle](https://www.kaggle.com/datasets/nelgiriyewithana/apple-quality)"
   ]
  },
  {
   "cell_type": "code",
   "execution_count": 56,
   "id": "28476ef2",
   "metadata": {},
   "outputs": [],
   "source": [
    "import matplotlib.pyplot as plt\n",
    "import pandas as pd\n",
    "import zipfile\n",
    "\n",
    "from sklearn.preprocessing import LabelEncoder\n",
    "from sklearn.preprocessing import StandardScaler\n",
    "from sklearn.metrics import accuracy_score, classification_report\n",
    "from sklearn.model_selection import train_test_split\n",
    "from sklearn.ensemble import RandomForestClassifier\n"
   ]
  },
  {
   "cell_type": "code",
   "execution_count": 14,
   "id": "42e852bd",
   "metadata": {},
   "outputs": [
    {
     "name": "stdout",
     "output_type": "stream",
     "text": [
      "   A_id      Size    Weight  Sweetness  Crunchiness  Juiciness  Ripeness  \\\n",
      "0   0.0 -3.970049 -2.512336   5.346330    -1.012009   1.844900  0.329840   \n",
      "1   1.0 -1.195217 -2.839257   3.664059     1.588232   0.853286  0.867530   \n",
      "2   2.0 -0.292024 -1.351282  -1.738429    -0.342616   2.838636 -0.038033   \n",
      "3   3.0 -0.657196 -2.271627   1.324874    -0.097875   3.637970 -3.413761   \n",
      "4   4.0  1.364217 -1.296612  -0.384658    -0.553006   3.030874 -1.303849   \n",
      "\n",
      "        Acidity Quality  \n",
      "0  -0.491590483    good  \n",
      "1  -0.722809367    good  \n",
      "2   2.621636473     bad  \n",
      "3   0.790723217    good  \n",
      "4   0.501984036    good  \n"
     ]
    }
   ],
   "source": [
    "with zipfile.ZipFile(\"data.zip\", \"r\") as zip_ref:\n",
    "    zip_ref.extractall(\"data\")\n",
    "\n",
    "# Read the extracted CSV file into a DataFrame\n",
    "data = pd.read_csv(\"data/apple_quality.csv\")\n",
    "\n",
    "# Display the first few rows of the DataFrame\n",
    "print(data.head())"
   ]
  },
  {
   "cell_type": "markdown",
   "id": "baecec84",
   "metadata": {},
   "source": [
    "# Data Preperation"
   ]
  },
  {
   "cell_type": "markdown",
   "id": "3a4bd6ff",
   "metadata": {},
   "source": [
    "It looks like the features in our database have been standardized and normalized -- (likely because it's difficult to create a scale for subjective 'scores' such as sweetness and juiciness) this is very helpful.\n",
    "\n",
    "Let's continue with the rest of our data preparation steps:\n",
    "\n",
    "- Handling Missing Values\n",
    "- Encoding Categorical Variables\n",
    "- Feature Scaling\n",
    "- Feature Selection / Engineering"
   ]
  },
  {
   "cell_type": "code",
   "execution_count": 39,
   "id": "d40240bc",
   "metadata": {},
   "outputs": [
    {
     "name": "stdout",
     "output_type": "stream",
     "text": [
      "number of rows: 4001\n",
      "number of cols: 9\n",
      "\n",
      "Number of rows after dropping null values: A_id           1\n",
      "Size           1\n",
      "Weight         1\n",
      "Sweetness      1\n",
      "Crunchiness    1\n",
      "Juiciness      1\n",
      "Ripeness       1\n",
      "Acidity        0\n",
      "Quality        1\n",
      "dtype: int64\n",
      "\n",
      "Number of rows after dropping null values: 4000\n"
     ]
    }
   ],
   "source": [
    "num_rows, num_columns = data.shape\n",
    "print(f\"number of rows: {num_rows}\")    # need > 1000\n",
    "print(f\"number of cols: {num_columns}\") # need ~10\n",
    "\n",
    "print()\n",
    "null_counts = data.isnull().sum()\n",
    "print(\"Number of rows after dropping null values:\", null_counts)\n",
    "\n",
    "print()\n",
    "clean_data = data.dropna()\n",
    "\n",
    "# Print the number of rows in the cleaned dataset\n",
    "num_rows_cleaned = len(clean_data)\n",
    "print(\"Number of rows after dropping null values:\", num_rows_cleaned)"
   ]
  },
  {
   "cell_type": "code",
   "execution_count": 40,
   "id": "827e17aa",
   "metadata": {},
   "outputs": [
    {
     "data": {
      "text/html": [
       "<div>\n",
       "<style scoped>\n",
       "    .dataframe tbody tr th:only-of-type {\n",
       "        vertical-align: middle;\n",
       "    }\n",
       "\n",
       "    .dataframe tbody tr th {\n",
       "        vertical-align: top;\n",
       "    }\n",
       "\n",
       "    .dataframe thead th {\n",
       "        text-align: right;\n",
       "    }\n",
       "</style>\n",
       "<table border=\"1\" class=\"dataframe\">\n",
       "  <thead>\n",
       "    <tr style=\"text-align: right;\">\n",
       "      <th></th>\n",
       "      <th>A_id</th>\n",
       "      <th>Size</th>\n",
       "      <th>Weight</th>\n",
       "      <th>Sweetness</th>\n",
       "      <th>Crunchiness</th>\n",
       "      <th>Juiciness</th>\n",
       "      <th>Ripeness</th>\n",
       "      <th>Acidity</th>\n",
       "      <th>Quality</th>\n",
       "    </tr>\n",
       "  </thead>\n",
       "  <tbody>\n",
       "    <tr>\n",
       "      <th>0</th>\n",
       "      <td>0.0</td>\n",
       "      <td>-3.970049</td>\n",
       "      <td>-2.512336</td>\n",
       "      <td>5.346330</td>\n",
       "      <td>-1.012009</td>\n",
       "      <td>1.844900</td>\n",
       "      <td>0.329840</td>\n",
       "      <td>-0.491590483</td>\n",
       "      <td>good</td>\n",
       "    </tr>\n",
       "    <tr>\n",
       "      <th>1</th>\n",
       "      <td>1.0</td>\n",
       "      <td>-1.195217</td>\n",
       "      <td>-2.839257</td>\n",
       "      <td>3.664059</td>\n",
       "      <td>1.588232</td>\n",
       "      <td>0.853286</td>\n",
       "      <td>0.867530</td>\n",
       "      <td>-0.722809367</td>\n",
       "      <td>good</td>\n",
       "    </tr>\n",
       "    <tr>\n",
       "      <th>2</th>\n",
       "      <td>2.0</td>\n",
       "      <td>-0.292024</td>\n",
       "      <td>-1.351282</td>\n",
       "      <td>-1.738429</td>\n",
       "      <td>-0.342616</td>\n",
       "      <td>2.838636</td>\n",
       "      <td>-0.038033</td>\n",
       "      <td>2.621636473</td>\n",
       "      <td>bad</td>\n",
       "    </tr>\n",
       "    <tr>\n",
       "      <th>3</th>\n",
       "      <td>3.0</td>\n",
       "      <td>-0.657196</td>\n",
       "      <td>-2.271627</td>\n",
       "      <td>1.324874</td>\n",
       "      <td>-0.097875</td>\n",
       "      <td>3.637970</td>\n",
       "      <td>-3.413761</td>\n",
       "      <td>0.790723217</td>\n",
       "      <td>good</td>\n",
       "    </tr>\n",
       "    <tr>\n",
       "      <th>4</th>\n",
       "      <td>4.0</td>\n",
       "      <td>1.364217</td>\n",
       "      <td>-1.296612</td>\n",
       "      <td>-0.384658</td>\n",
       "      <td>-0.553006</td>\n",
       "      <td>3.030874</td>\n",
       "      <td>-1.303849</td>\n",
       "      <td>0.501984036</td>\n",
       "      <td>good</td>\n",
       "    </tr>\n",
       "  </tbody>\n",
       "</table>\n",
       "</div>"
      ],
      "text/plain": [
       "   A_id      Size    Weight  Sweetness  Crunchiness  Juiciness  Ripeness  \\\n",
       "0   0.0 -3.970049 -2.512336   5.346330    -1.012009   1.844900  0.329840   \n",
       "1   1.0 -1.195217 -2.839257   3.664059     1.588232   0.853286  0.867530   \n",
       "2   2.0 -0.292024 -1.351282  -1.738429    -0.342616   2.838636 -0.038033   \n",
       "3   3.0 -0.657196 -2.271627   1.324874    -0.097875   3.637970 -3.413761   \n",
       "4   4.0  1.364217 -1.296612  -0.384658    -0.553006   3.030874 -1.303849   \n",
       "\n",
       "        Acidity Quality  \n",
       "0  -0.491590483    good  \n",
       "1  -0.722809367    good  \n",
       "2   2.621636473     bad  \n",
       "3   0.790723217    good  \n",
       "4   0.501984036    good  "
      ]
     },
     "execution_count": 40,
     "metadata": {},
     "output_type": "execute_result"
    }
   ],
   "source": [
    "clean_data.head()"
   ]
  },
  {
   "cell_type": "code",
   "execution_count": 41,
   "id": "23c93136",
   "metadata": {
    "scrolled": false
   },
   "outputs": [
    {
     "data": {
      "image/png": "[encoded data removed]",
      "text/plain": [
       "<Figure size 720x576 with 9 Axes>"
      ]
     },
     "metadata": {
      "needs_background": "light"
     },
     "output_type": "display_data"
    }
   ],
   "source": [
    "# check distribution of features\n",
    "clean_data.hist(figsize=(10, 8))\n",
    "plt.tight_layout()\n",
    "plt.show()"
   ]
  },
  {
   "cell_type": "code",
   "execution_count": 42,
   "id": "3b77a48e",
   "metadata": {},
   "outputs": [],
   "source": [
    "# Encoding Categorical Variables\n",
    "le = LabelEncoder()\n",
    "\n",
    "# suppress SettingWithCopyWarning using '.loc[:,' \n",
    "# https://pandas.pydata.org/pandas-docs/stable/user_guide/indexing.html#returning-a-view-versus-a-copy\n",
    "clean_data.loc[:, 'Quality'] = le.fit_transform(clean_data['Quality'])"
   ]
  },
  {
   "cell_type": "code",
   "execution_count": 44,
   "id": "06090ff6",
   "metadata": {},
   "outputs": [],
   "source": [
    "# Feature Scaling\n",
    "scaler = StandardScaler()\n",
    "\n",
    "# Select the numerical columns to be scaled\n",
    "numerical_columns = ['Size', 'Weight', 'Sweetness', 'Crunchiness', 'Juiciness', 'Ripeness', 'Acidity']\n",
    "\n",
    "# Fit and transform the numerical columns\n",
    "clean_data.loc[:, numerical_columns] = scaler.fit_transform(clean_data[numerical_columns])"
   ]
  },
  {
   "cell_type": "code",
   "execution_count": 45,
   "id": "d28780e4",
   "metadata": {},
   "outputs": [
    {
     "data": {
      "text/html": [
       "<div>\n",
       "<style scoped>\n",
       "    .dataframe tbody tr th:only-of-type {\n",
       "        vertical-align: middle;\n",
       "    }\n",
       "\n",
       "    .dataframe tbody tr th {\n",
       "        vertical-align: top;\n",
       "    }\n",
       "\n",
       "    .dataframe thead th {\n",
       "        text-align: right;\n",
       "    }\n",
       "</style>\n",
       "<table border=\"1\" class=\"dataframe\">\n",
       "  <thead>\n",
       "    <tr style=\"text-align: right;\">\n",
       "      <th></th>\n",
       "      <th>A_id</th>\n",
       "      <th>Size</th>\n",
       "      <th>Weight</th>\n",
       "      <th>Sweetness</th>\n",
       "      <th>Crunchiness</th>\n",
       "      <th>Juiciness</th>\n",
       "      <th>Ripeness</th>\n",
       "      <th>Acidity</th>\n",
       "      <th>Quality</th>\n",
       "    </tr>\n",
       "  </thead>\n",
       "  <tbody>\n",
       "    <tr>\n",
       "      <th>0</th>\n",
       "      <td>0.0</td>\n",
       "      <td>-1.798424</td>\n",
       "      <td>-0.950373</td>\n",
       "      <td>2.993421</td>\n",
       "      <td>-1.424150</td>\n",
       "      <td>0.690545</td>\n",
       "      <td>-0.089872</td>\n",
       "      <td>-0.269415</td>\n",
       "      <td>1</td>\n",
       "    </tr>\n",
       "    <tr>\n",
       "      <th>1</th>\n",
       "      <td>1.0</td>\n",
       "      <td>-0.359060</td>\n",
       "      <td>-1.154404</td>\n",
       "      <td>2.127698</td>\n",
       "      <td>0.429746</td>\n",
       "      <td>0.176767</td>\n",
       "      <td>0.197020</td>\n",
       "      <td>-0.378997</td>\n",
       "      <td>1</td>\n",
       "    </tr>\n",
       "    <tr>\n",
       "      <th>2</th>\n",
       "      <td>2.0</td>\n",
       "      <td>0.109445</td>\n",
       "      <td>-0.225759</td>\n",
       "      <td>-0.652507</td>\n",
       "      <td>-0.946892</td>\n",
       "      <td>1.205422</td>\n",
       "      <td>-0.286156</td>\n",
       "      <td>1.206044</td>\n",
       "      <td>0</td>\n",
       "    </tr>\n",
       "    <tr>\n",
       "      <th>3</th>\n",
       "      <td>3.0</td>\n",
       "      <td>-0.079977</td>\n",
       "      <td>-0.800146</td>\n",
       "      <td>0.923916</td>\n",
       "      <td>-0.772399</td>\n",
       "      <td>1.619575</td>\n",
       "      <td>-2.087320</td>\n",
       "      <td>0.338315</td>\n",
       "      <td>1</td>\n",
       "    </tr>\n",
       "    <tr>\n",
       "      <th>4</th>\n",
       "      <td>4.0</td>\n",
       "      <td>0.968573</td>\n",
       "      <td>-0.191640</td>\n",
       "      <td>0.044164</td>\n",
       "      <td>-1.096894</td>\n",
       "      <td>1.305025</td>\n",
       "      <td>-0.961548</td>\n",
       "      <td>0.201472</td>\n",
       "      <td>1</td>\n",
       "    </tr>\n",
       "  </tbody>\n",
       "</table>\n",
       "</div>"
      ],
      "text/plain": [
       "   A_id      Size    Weight  Sweetness  Crunchiness  Juiciness  Ripeness  \\\n",
       "0   0.0 -1.798424 -0.950373   2.993421    -1.424150   0.690545 -0.089872   \n",
       "1   1.0 -0.359060 -1.154404   2.127698     0.429746   0.176767  0.197020   \n",
       "2   2.0  0.109445 -0.225759  -0.652507    -0.946892   1.205422 -0.286156   \n",
       "3   3.0 -0.079977 -0.800146   0.923916    -0.772399   1.619575 -2.087320   \n",
       "4   4.0  0.968573 -0.191640   0.044164    -1.096894   1.305025 -0.961548   \n",
       "\n",
       "    Acidity Quality  \n",
       "0 -0.269415       1  \n",
       "1 -0.378997       1  \n",
       "2  1.206044       0  \n",
       "3  0.338315       1  \n",
       "4  0.201472       1  "
      ]
     },
     "execution_count": 45,
     "metadata": {},
     "output_type": "execute_result"
    }
   ],
   "source": [
    "clean_data.head()"
   ]
  },
  {
   "cell_type": "code",
   "execution_count": 48,
   "id": "dc1de154",
   "metadata": {},
   "outputs": [
    {
     "name": "stdout",
     "output_type": "stream",
     "text": [
      "Correlation between features and the target feature:\n",
      "Quality        1.000000\n",
      "Juiciness      0.260223\n",
      "Sweetness      0.250998\n",
      "Size           0.244007\n",
      "A_id           0.004875\n",
      "Weight         0.001421\n",
      "Acidity       -0.007697\n",
      "Crunchiness   -0.012376\n",
      "Ripeness      -0.264315\n",
      "Name: Quality, dtype: float64\n"
     ]
    }
   ],
   "source": [
    "# Feature Engineering\n",
    "target_feature = 'Quality'\n",
    "\n",
    "# Create correlation matrix\n",
    "correlation_matrix = clean_data.corr()\n",
    "\n",
    "# Extract the correlation values between features and the target feature\n",
    "feature_correlations = correlation_matrix[target_feature].sort_values(ascending=False)\n",
    "\n",
    "# Print the feature correlations\n",
    "print(\"Correlation between features and the target feature:\")\n",
    "print(feature_correlations)"
   ]
  },
  {
   "cell_type": "markdown",
   "id": "2c20e262",
   "metadata": {},
   "source": [
    "With this, we can interpret:\n",
    "- juiciness, sweetness, and size of the apple have a weak positive correlation to quality\n",
    "- ripeness has a weak negative correlation\n",
    "- the others have a very weak or negligible correlations with quality. \n",
    "\n",
    "Based on these results, we will focus on features like juiciness, sweetness, size, and ripeness for analysis, as they have relatively stronger correlations with the target feature 'Quality'."
   ]
  },
  {
   "cell_type": "markdown",
   "id": "04b5364b",
   "metadata": {},
   "source": [
    "# Modeling\n",
    "\n",
    "### Baseline Model: \n",
    "Majority Class Classifier Accuracy: 0.501\n",
    "Baseline Classification Report:\n",
    "\n",
    "|              | precision | recall | f1-score | support |\n",
    "|--------------|-----------|--------|----------|---------|\n",
    "| 0            | 1.00      | 0.00   | 0.00     | 1996    |\n",
    "| 1            | 0.50      | 1.00   | 0.67     | 2004    |\n",
    "| accuracy     |           |        | 0.50     | 4000    |\n",
    "| macro avg    | 0.75      | 0.50   | 0.33     | 4000    |\n",
    "| weighted avg | 0.75      | 0.50   | 0.33     | 4000    |\n",
    "\n",
    "Accuracy score of 0.501 is not particularly impressive,as it suggests that the classifier is only slightly better than random guessing.\n",
    "\n",
    "The Majority Class Classifier's performance is not satisfactory."
   ]
  },
  {
   "cell_type": "code",
   "execution_count": 55,
   "id": "43e359cb",
   "metadata": {
    "scrolled": true
   },
   "outputs": [
    {
     "name": "stdout",
     "output_type": "stream",
     "text": [
      "Majority Class Classifier Accuracy: 0.501\n",
      "Majority Class Classifier Classification Report:\n",
      "              precision    recall  f1-score   support\n",
      "\n",
      "           0       1.00      0.00      0.00      1996\n",
      "           1       0.50      1.00      0.67      2004\n",
      "\n",
      "    accuracy                           0.50      4000\n",
      "   macro avg       0.75      0.50      0.33      4000\n",
      "weighted avg       0.75      0.50      0.33      4000\n",
      "\n"
     ]
    }
   ],
   "source": [
    "# Separate the features (X) and the target variable (y)\n",
    "X = clean_data.drop('Quality', axis=1)\n",
    "y = clean_data['Quality']\n",
    "\n",
    "# Convert the target variable to a known data type (e.g., integers)\n",
    "y = y.astype(int)\n",
    "\n",
    "# Get the majority class\n",
    "majority_class = y.mode()[0]\n",
    "\n",
    "# Create a majority class classifier\n",
    "majority_class_predictions = [majority_class] * len(y)\n",
    "\n",
    "# Evaluate the majority class classifier\n",
    "accuracy_majority = accuracy_score(y, majority_class_predictions)\n",
    "print(\"Majority Class Classifier Accuracy:\", accuracy_majority)\n",
    "\n",
    "# Print the classification report for the majority class classifier\n",
    "print(\"Majority Class Classifier Classification Report:\")\n",
    "\n",
    "# zero_division to suppress UndefinedMetricWarning\n",
    "print(classification_report(y, majority_class_predictions, zero_division=1)) "
   ]
  },
  {
   "cell_type": "code",
   "execution_count": null,
   "id": "eac4bf36",
   "metadata": {},
   "outputs": [],
   "source": [
    "\n"
   ]
  },
  {
   "cell_type": "code",
   "execution_count": null,
   "id": "9bf05b6f",
   "metadata": {},
   "outputs": [],
   "source": []
  }
 ],
 "metadata": {
  "kernelspec": {
   "display_name": "Python (learn-env)",
   "language": "python",
   "name": "learn-env"
  },
  "language_info": {
   "codemirror_mode": {
    "name": "ipython",
    "version": 3
   },
   "file_extension": ".py",
   "mimetype": "text/x-python",
   "name": "python",
   "nbconvert_exporter": "python",
   "pygments_lexer": "ipython3",
   "version": "3.8.5"
  }
 },
 "nbformat": 4,
 "nbformat_minor": 5
}
