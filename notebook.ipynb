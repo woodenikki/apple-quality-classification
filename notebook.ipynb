{
 "cells": [
  {
   "cell_type": "markdown",
   "id": "2f658506",
   "metadata": {},
   "source": [
    "## Business Problem\n",
    "\n",
    "This project empowers apple growers, distributors, and retailers to efficiently assess the quality of apples using machine learning. By predicting apple quality based on measurable attributes, this project streamlines operations, reduces waste, and enhances customer satisfaction throughout the supply chain, ultimately revolutionizing the apple industry."
   ]
  },
  {
   "cell_type": "markdown",
   "id": "9276813d",
   "metadata": {},
   "source": [
    "## Dataset:\n",
    "This dataset contains information about various attributes of a set of fruits, providing insights into their characteristics. The dataset includes details such as fruit ID, size, weight, sweetness, crunchiness, juiciness, ripeness, acidity, and quality.\n",
    "\n",
    "The dataset was generously provided by an American agriculture company. The data has been scaled and cleaned for ease of use.\n",
    "\n",
    "[Apple Quality: Kaggle](https://www.kaggle.com/datasets/nelgiriyewithana/apple-quality)"
   ]
  },
  {
   "cell_type": "code",
   "execution_count": 1,
   "id": "fec18985",
   "metadata": {},
   "outputs": [],
   "source": [
    "import pandas as pd\n",
    "import zipfile"
   ]
  },
  {
   "cell_type": "code",
   "execution_count": 3,
   "id": "42210c8c",
   "metadata": {},
   "outputs": [
    {
     "name": "stdout",
     "output_type": "stream",
     "text": [
      "   A_id      Size    Weight  Sweetness  Crunchiness  Juiciness  Ripeness  \\\n",
      "0   0.0 -3.970049 -2.512336   5.346330    -1.012009   1.844900  0.329840   \n",
      "1   1.0 -1.195217 -2.839257   3.664059     1.588232   0.853286  0.867530   \n",
      "2   2.0 -0.292024 -1.351282  -1.738429    -0.342616   2.838636 -0.038033   \n",
      "3   3.0 -0.657196 -2.271627   1.324874    -0.097875   3.637970 -3.413761   \n",
      "4   4.0  1.364217 -1.296612  -0.384658    -0.553006   3.030874 -1.303849   \n",
      "\n",
      "        Acidity Quality  \n",
      "0  -0.491590483    good  \n",
      "1  -0.722809367    good  \n",
      "2   2.621636473     bad  \n",
      "3   0.790723217    good  \n",
      "4   0.501984036    good  \n"
     ]
    }
   ],
   "source": [
    "with zipfile.ZipFile(\"data.zip\", \"r\") as zip_ref:\n",
    "    zip_ref.extractall(\"data\")\n",
    "\n",
    "# Read the extracted CSV file into a DataFrame\n",
    "data = pd.read_csv(\"data/apple_quality.csv\")\n",
    "\n",
    "# Display the first few rows of the DataFrame\n",
    "print(data.head())"
   ]
  },
  {
   "cell_type": "code",
   "execution_count": 9,
   "id": "15822248",
   "metadata": {},
   "outputs": [
    {
     "name": "stdout",
     "output_type": "stream",
     "text": [
      "number of rows: 4001\n",
      "number of cols: 9\n"
     ]
    },
    {
     "data": {
      "text/plain": [
       "A_id           1\n",
       "Size           1\n",
       "Weight         1\n",
       "Sweetness      1\n",
       "Crunchiness    1\n",
       "Juiciness      1\n",
       "Ripeness       1\n",
       "Acidity        0\n",
       "Quality        1\n",
       "dtype: int64"
      ]
     },
     "execution_count": 9,
     "metadata": {},
     "output_type": "execute_result"
    }
   ],
   "source": [
    "num_rows, num_columns = data.shape\n",
    "print(f\"number of rows: {num_rows}\")    # need > 1000\n",
    "print(f\"number of cols: {num_columns}\") # need ~10\n",
    "\n",
    "null_counts = data.isnull().sum()\n",
    "null_counts"
   ]
  },
  {
   "cell_type": "code",
   "execution_count": 10,
   "id": "b96fd47a",
   "metadata": {},
   "outputs": [
    {
     "name": "stdout",
     "output_type": "stream",
     "text": [
      "Number of rows after dropping null values: 4000\n"
     ]
    }
   ],
   "source": [
    "data_cleaned = data.dropna()\n",
    "\n",
    "# Print the number of rows in the cleaned dataset\n",
    "num_rows_cleaned = len(data_cleaned)\n",
    "print(\"Number of rows after dropping null values:\", num_rows_cleaned)"
   ]
  },
  {
   "cell_type": "code",
   "execution_count": null,
   "id": "e9c9c385",
   "metadata": {},
   "outputs": [],
   "source": []
  }
 ],
 "metadata": {
  "kernelspec": {
   "display_name": "Python (learn-env)",
   "language": "python",
   "name": "learn-env"
  },
  "language_info": {
   "codemirror_mode": {
    "name": "ipython",
    "version": 3
   },
   "file_extension": ".py",
   "mimetype": "text/x-python",
   "name": "python",
   "nbconvert_exporter": "python",
   "pygments_lexer": "ipython3",
   "version": "3.8.5"
  }
 },
 "nbformat": 4,
 "nbformat_minor": 5
}
